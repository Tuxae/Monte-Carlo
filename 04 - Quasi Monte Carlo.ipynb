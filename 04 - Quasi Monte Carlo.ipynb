{
 "cells": [
  {
   "cell_type": "code",
   "execution_count": 1,
   "metadata": {},
   "outputs": [],
   "source": [
    "import math\n",
    "import numpy as np\n",
    "import matplotlib.pyplot as plt\n",
    "import random\n",
    "from scipy.stats import norm\n",
    "from scipy import stats\n",
    "from pyDOE import lhs"
   ]
  },
  {
   "cell_type": "markdown",
   "metadata": {},
   "source": [
    "## Stratification for d > 1: Latin hypercube sampling\n",
    "\n",
    "The LHS method consists of dividing the input space into a number of equiprobable regions, then taking random samples from each region.\n",
    "\n",
    "Let's say we want to solve the following integral: \n",
    "$$\n",
    "\\int_{1}^{5} x^{2}\n",
    "$$\n",
    "we can either use classical MC method or use the LHS method.\n",
    "\n",
    "The lhs() function in the pyDOE library returns an “experimental design” consisting of points in the $[0,1]^d$ hypercube."
   ]
  },
  {
   "cell_type": "code",
   "execution_count": 2,
   "metadata": {},
   "outputs": [
    {
     "name": "stdout",
     "output_type": "stream",
     "text": [
      "Latin hypercube result: 41.3333330361117\n"
     ]
    }
   ],
   "source": [
    "seq = lhs(2, 100_000)\n",
    "accum = 0\n",
    "for i in range(100_000):\n",
    "    x = 1 + seq[i][0]*(5 - 1)\n",
    "    y = 1 + seq[i][1]*(5**2 - 1**2)\n",
    "    accum += x**2\n",
    "volume = 5 - 1\n",
    "result = float(volume * accum / 100_000)\n",
    "print(\"Latin hypercube result: {}\".format(result))"
   ]
  }
 ],
 "metadata": {
  "kernelspec": {
   "display_name": "Python 3",
   "language": "python",
   "name": "python3"
  },
  "language_info": {
   "codemirror_mode": {
    "name": "ipython",
    "version": 3
   },
   "file_extension": ".py",
   "mimetype": "text/x-python",
   "name": "python",
   "nbconvert_exporter": "python",
   "pygments_lexer": "ipython3",
   "version": "3.7.3"
  }
 },
 "nbformat": 4,
 "nbformat_minor": 2
}
