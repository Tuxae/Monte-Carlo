{
 "cells": [
  {
   "cell_type": "code",
   "execution_count": 14,
   "metadata": {},
   "outputs": [],
   "source": [
    "import numpy as np\n",
    "import matplotlib.pyplot as plt"
   ]
  },
  {
   "cell_type": "markdown",
   "metadata": {},
   "source": [
    "## How to sample $N$ sorted uniforms"
   ]
  },
  {
   "cell_type": "markdown",
   "metadata": {},
   "source": [
    "### Naive method"
   ]
  },
  {
   "cell_type": "code",
   "execution_count": 1,
   "metadata": {},
   "outputs": [],
   "source": [
    "N = 10"
   ]
  },
  {
   "cell_type": "code",
   "execution_count": 9,
   "metadata": {},
   "outputs": [
    {
     "name": "stdout",
     "output_type": "stream",
     "text": [
      "[0.10589631905599228, 0.15700824143276249, 0.28329430734063354, 0.4343415069948978, 0.45755754768533363, 0.4741318586325023, 0.4827775910519757, 0.5784968697342188, 0.84309672339804, 0.990893384254053]\n"
     ]
    }
   ],
   "source": [
    "U = [np.random.uniform() for _ in range(N)]\n",
    "print(sorted(U))"
   ]
  },
  {
   "cell_type": "markdown",
   "metadata": {},
   "source": [
    "### Smart method"
   ]
  },
  {
   "cell_type": "code",
   "execution_count": 8,
   "metadata": {},
   "outputs": [
    {
     "name": "stdout",
     "output_type": "stream",
     "text": [
      "[0.15895362 0.19550675 0.28412259 0.44423502 0.57805713 0.60550587\n",
      " 0.64605758 0.68504546 0.78860487]\n"
     ]
    }
   ],
   "source": [
    "E = [np.random.exponential(1) for _ in range(10)]\n",
    "V = np.cumsum(E)\n",
    "print(V[:-1]/V[-1])"
   ]
  },
  {
   "cell_type": "markdown",
   "metadata": {},
   "source": [
    "### Inverse CDF Algorithm"
   ]
  },
  {
   "cell_type": "code",
   "execution_count": 10,
   "metadata": {},
   "outputs": [],
   "source": [
    "def inversecdf(su,W):\n",
    "    \"\"\" Input:  su[0:N] sorted uniforms\n",
    "                W[0:K]  normalised weights (sum to one)\n",
    "        Output: A[0:N]  indexes (in {0,...,K-1})\n",
    "        \"\"\"\n",
    "    j=0; s=W[0]; N = su.shape[0]\n",
    "    A = np.zeros(N,dtype='int64')\n",
    "    for n in range(N):\n",
    "        while su[n]>s:\n",
    "            j += 1\n",
    "            s += W[j]\n",
    "        A[n] = j\n",
    "    return A"
   ]
  },
  {
   "cell_type": "markdown",
   "metadata": {},
   "source": [
    "Discrete distribution :"
   ]
  },
  {
   "cell_type": "code",
   "execution_count": 23,
   "metadata": {},
   "outputs": [],
   "source": [
    "w = [0, 0.1, 0.2, 0.3, 0.4]\n",
    "W = np.cumsum(w)"
   ]
  },
  {
   "cell_type": "code",
   "execution_count": 24,
   "metadata": {},
   "outputs": [
    {
     "data": {
      "text/plain": [
       "[<matplotlib.lines.Line2D at 0x7f39e37d9a90>]"
      ]
     },
     "execution_count": 24,
     "metadata": {},
     "output_type": "execute_result"
    },
    {
     "data": {
      "image/png": "[encoded data removed]",
      "text/plain": [
       "<Figure size 432x288 with 1 Axes>"
      ]
     },
     "metadata": {
      "needs_background": "light"
     },
     "output_type": "display_data"
    }
   ],
   "source": [
    "plt.step(np.arange(len(W)),W)"
   ]
  },
  {
   "cell_type": "code",
   "execution_count": 103,
   "metadata": {},
   "outputs": [
    {
     "data": {
      "text/plain": [
       "array([2, 3, 3, 4, 4])"
      ]
     },
     "execution_count": 103,
     "metadata": {},
     "output_type": "execute_result"
    }
   ],
   "source": [
    "E = [np.random.exponential(1) for _ in range(len(W)+1)]\n",
    "V = np.cumsum(E)\n",
    "su=V[:-1]/V[-1]\n",
    "\n",
    "inversecdf(su,w)"
   ]
  },
  {
   "cell_type": "code",
   "execution_count": null,
   "metadata": {},
   "outputs": [],
   "source": []
  }
 ],
 "metadata": {
  "kernelspec": {
   "display_name": "Python 3",
   "language": "python",
   "name": "python3"
  },
  "language_info": {
   "codemirror_mode": {
    "name": "ipython",
    "version": 3
   },
   "file_extension": ".py",
   "mimetype": "text/x-python",
   "name": "python",
   "nbconvert_exporter": "python",
   "pygments_lexer": "ipython3",
   "version": "3.7.3"
  }
 },
 "nbformat": 4,
 "nbformat_minor": 2
}
