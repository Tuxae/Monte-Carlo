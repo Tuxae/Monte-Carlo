{
 "cells": [
  {
   "cell_type": "code",
   "execution_count": 1,
   "metadata": {},
   "outputs": [],
   "source": [
    "import math\n",
    "import numpy as np\n",
    "import matplotlib.pyplot as plt\n",
    "import random\n",
    "from scipy.stats import norm\n",
    "from scipy import stats"
   ]
  },
  {
   "cell_type": "markdown",
   "metadata": {},
   "source": [
    "The main idea is to find a Monte Carlo estimator with a smaller variance than the standard estimator $$ \\frac{1}{N} \\sum_{n=1}^{N} \\phi(X_n) $$. There are two main methods: \n",
    "\n",
    "- antithec variables \n",
    "- control variables"
   ]
  },
  {
   "cell_type": "markdown",
   "metadata": {},
   "source": [
    "## Antithetic variables"
   ]
  },
  {
   "cell_type": "code",
   "execution_count": 2,
   "metadata": {},
   "outputs": [],
   "source": [
    "def get_rand_number(min_value, max_value):\n",
    "    \"\"\"\n",
    "    This function gets a random number from a uniform distribution between\n",
    "    the two input values [min_value, max_value] inclusively\n",
    "    Args:\n",
    "    - min_value (float)\n",
    "    - max_value (float)\n",
    "    Return:\n",
    "    - Random number between this range (float)\n",
    "    \"\"\"\n",
    "    range = max_value - min_value\n",
    "    choice = random.uniform(0,1)\n",
    "    return min_value + range*choice"
   ]
  },
  {
   "cell_type": "code",
   "execution_count": 3,
   "metadata": {},
   "outputs": [],
   "source": [
    "def get_estimator_anti(fct, N):\n",
    "    \"\"\"\n",
    "    This function returns the antithetic estimator which is unbiased and consistant.\n",
    "    Args:\n",
    "    - fct: the function we want to estimate\n",
    "    - N (int)\n",
    "    Return:\n",
    "    - Monte Carlo antithetic estimator of f(x) (float)\n",
    "    \"\"\"\n",
    "    sum_of_samples = 0 \n",
    "    for i in range(N):\n",
    "        x = get_rand_number(-10, 10)\n",
    "        sum_of_samples += (fct(x) + fct(-x))\n",
    "    est = float((1 / (2*N)) * sum_of_samples)\n",
    "    return est"
   ]
  },
  {
   "cell_type": "code",
   "execution_count": 4,
   "metadata": {},
   "outputs": [],
   "source": [
    "def f(x):\n",
    "    \"\"\"\n",
    "    Compute normal density\n",
    "    \"\"\"\n",
    "    return 1/np.sqrt(2*np.pi) * np.exp(-1/2*x**2)"
   ]
  },
  {
   "cell_type": "code",
   "execution_count": 5,
   "metadata": {},
   "outputs": [
    {
     "data": {
      "text/plain": [
       "[<matplotlib.lines.Line2D at 0x1a1a83a470>]"
      ]
     },
     "execution_count": 5,
     "metadata": {},
     "output_type": "execute_result"
    },
    {
     "data": {
      "image/png": "[encoded data removed]",
      "text/plain": [
       "<Figure size 432x288 with 1 Axes>"
      ]
     },
     "metadata": {
      "needs_background": "light"
     },
     "output_type": "display_data"
    }
   ],
   "source": [
    "interval = np.linspace(-10,10,1000)\n",
    "fx = f(interval)\n",
    "plt.plot(interval,fx)"
   ]
  },
  {
   "cell_type": "code",
   "execution_count": 6,
   "metadata": {},
   "outputs": [],
   "source": [
    "test = get_estimator_anti(f, 100_000)"
   ]
  },
  {
   "cell_type": "code",
   "execution_count": 7,
   "metadata": {},
   "outputs": [
    {
     "name": "stdout",
     "output_type": "stream",
     "text": [
      "0.05020227925934575\n"
     ]
    }
   ],
   "source": [
    "print(test)"
   ]
  },
  {
   "cell_type": "code",
   "execution_count": 8,
   "metadata": {},
   "outputs": [],
   "source": [
    "def get_IMC_variance(fct, N):\n",
    "    \"\"\"\n",
    "    This function returns the variance of Monte Carlo antithetic estimator.\n",
    "    Args:\n",
    "    - fct: the function we want to estimate\n",
    "    - N (int)\n",
    "    Return:\n",
    "    - Variance for Monte Carlo antithetic approximation of f(x) (float)\n",
    "    \"\"\"    \n",
    "    # get the average of squares\n",
    "    sum_of_samples = 0\n",
    "    for i in range(N):\n",
    "        x = get_rand_number(-10, 10)\n",
    "        sum_of_samples += (fct(x) + fct(-x))**2\n",
    "    sum_of_sqs = float( 1 / (4*N) * sum_of_samples )\n",
    "    \n",
    "    # get square of average\n",
    "    running_total = 0\n",
    "    for i in range(N):\n",
    "        x = get_rand_number(-10, 10)\n",
    "        running_total = (fct(x) + fct(-x))\n",
    "    sq_ave = float((running_total/ (2* N))**2)\n",
    "    \n",
    "    return sum_of_sqs - sq_ave"
   ]
  },
  {
   "cell_type": "code",
   "execution_count": 9,
   "metadata": {},
   "outputs": [
    {
     "data": {
      "text/plain": [
       "0.01405183338693272"
      ]
     },
     "execution_count": 9,
     "metadata": {},
     "output_type": "execute_result"
    }
   ],
   "source": [
    "get_IMC_variance(f, 100_000)"
   ]
  },
  {
   "cell_type": "markdown",
   "metadata": {},
   "source": [
    "### Comparison"
   ]
  },
  {
   "cell_type": "code",
   "execution_count": 10,
   "metadata": {},
   "outputs": [],
   "source": [
    "def get_estimator(fct, N):\n",
    "    \"\"\"\n",
    "    This function returns the Monte Carlo estimator.\n",
    "    Args:\n",
    "    - fct: the function we want to estimate\n",
    "    - N (int)\n",
    "    Return:\n",
    "    - Monte Carlo estimator of f(x) (float)\n",
    "    \"\"\"\n",
    "    sum_of_samples = 0 \n",
    "    for i in range(N):\n",
    "        x = get_rand_number(-10, 10)\n",
    "        sum_of_samples += fct(x)\n",
    "    est = float((1 / N) * sum_of_samples)\n",
    "    return est"
   ]
  },
  {
   "cell_type": "code",
   "execution_count": 11,
   "metadata": {},
   "outputs": [
    {
     "data": {
      "text/plain": [
       "0.05000935564305792"
      ]
     },
     "execution_count": 11,
     "metadata": {},
     "output_type": "execute_result"
    }
   ],
   "source": [
    "test = get_estimator(f, 100_000)\n",
    "test"
   ]
  },
  {
   "cell_type": "code",
   "execution_count": 12,
   "metadata": {},
   "outputs": [],
   "source": [
    "def get_variance(fct, N):\n",
    "    \"\"\"\n",
    "    This function returns the variance of Monte Carlo estimator.\n",
    "    Args:\n",
    "    - fct: the function we want to estimate\n",
    "    - N (int)\n",
    "    Return:\n",
    "    - Variance for Monte Carlo approximation of f(x) (float)\n",
    "    \"\"\"    \n",
    "    # get the average of squares\n",
    "    sum_of_samples = 0\n",
    "    for i in range(N):\n",
    "        x = get_rand_number(-10, 10)\n",
    "        sum_of_samples += fct(x)**2\n",
    "    sum_of_sqs = float(sum_of_samples /N)\n",
    "    \n",
    "    # get square of average\n",
    "    running_total = 0\n",
    "    for i in range(N):\n",
    "        x = get_rand_number(-10, 10)\n",
    "        running_total = fct(x)\n",
    "    sq_ave = float((running_total/ N)**2)\n",
    "    \n",
    "    return sum_of_sqs - sq_ave"
   ]
  },
  {
   "cell_type": "code",
   "execution_count": 13,
   "metadata": {},
   "outputs": [
    {
     "data": {
      "text/plain": [
       "0.014302603168496743"
      ]
     },
     "execution_count": 13,
     "metadata": {},
     "output_type": "execute_result"
    }
   ],
   "source": [
    "get_variance(f, 100_000)"
   ]
  },
  {
   "cell_type": "markdown",
   "metadata": {},
   "source": [
    "# Importance sampling\n",
    "\n",
    "Importance sampling is a method for reducing the variance of a Monte Carlo simulation without increasing the number of samples. The idea is that instead of randomly sampling from the whole function we will sample from a distribution of points similarly shaped to the function.\n",
    "\n",
    "\n",
    "$$\n",
    "\\begin{aligned}\n",
    "\\mathbb{E}[\\varphi(X)] &=\\int_{\\mathcal{X}} \\varphi(x) f(x) d x \\\\\n",
    "&=\\int_{\\mathcal{X}} \\varphi(x) \\frac{f(x)}{g(x)} g(x) d x=\\mathbb{E}_{g}\\left[\\frac{f(X)}{g(X)} \\varphi(X)\\right]\n",
    "\\end{aligned}\n",
    "$$\n",
    "assuming $$\\operatorname{Supp}(f) \\subset \\operatorname{Supp}(g)$$\n",
    "\n",
    "Any expectation w.r.t. PDF $f$ may be rewritten thusly as an expectation\n",
    "w.r.t. PDF $g$ (which may be easier to simulate from):\n",
    "$$\n",
    "\\hat{l}_{l S}=\\frac{1}{N} \\sum_{n=1}^{N} \\frac{f\\left(X_{n}\\right)}{g\\left(X_{n}\\right)} \\varphi\\left(X_{n}\\right)\n",
    "$$"
   ]
  },
  {
   "cell_type": "code",
   "execution_count": 14,
   "metadata": {},
   "outputs": [],
   "source": [
    "def g(x):\n",
    "    \"\"\"\n",
    "    Compute Cauchy distribution density\n",
    "    \"\"\"\n",
    "    return 1/(np.pi*(1+x**2))"
   ]
  },
  {
   "cell_type": "code",
   "execution_count": 15,
   "metadata": {},
   "outputs": [
    {
     "data": {
      "text/plain": [
       "[<matplotlib.lines.Line2D at 0x1a1a89dac8>]"
      ]
     },
     "execution_count": 15,
     "metadata": {},
     "output_type": "execute_result"
    },
    {
     "data": {
      "image/png": "[encoded data removed]",
      "text/plain": [
       "<Figure size 432x288 with 1 Axes>"
      ]
     },
     "metadata": {
      "needs_background": "light"
     },
     "output_type": "display_data"
    }
   ],
   "source": [
    "interval = np.linspace(-10,10,1000)\n",
    "gx = g(interval)\n",
    "plt.plot(interval, fx)\n",
    "plt.plot(interval,gx)"
   ]
  },
  {
   "cell_type": "markdown",
   "metadata": {},
   "source": [
    "Let's suppose that we want to estimate $$ P(Y > 3)$$ where $$ Y \\sim N(0,1)$$. \n",
    "In this case, rather than the N(0,1) we can use the exponential density truncated at 5 and use importance sampling to estimate this probability."
   ]
  },
  {
   "cell_type": "code",
   "execution_count": 16,
   "metadata": {},
   "outputs": [
    {
     "data": {
      "text/plain": [
       "[<matplotlib.lines.Line2D at 0x1a1aa20e48>]"
      ]
     },
     "execution_count": 16,
     "metadata": {},
     "output_type": "execute_result"
    },
    {
     "data": {
      "image/png": "[encoded data removed]",
      "text/plain": [
       "<Figure size 432x288 with 1 Axes>"
      ]
     },
     "metadata": {
      "needs_background": "light"
     },
     "output_type": "display_data"
    }
   ],
   "source": [
    "x = np.linspace(4, 10, 100)\n",
    "plt.plot(x, stats.expon(5).pdf(x))"
   ]
  },
  {
   "cell_type": "code",
   "execution_count": 17,
   "metadata": {},
   "outputs": [
    {
     "data": {
      "text/plain": [
       "[<matplotlib.lines.Line2D at 0x1a1aaf6320>]"
      ]
     },
     "execution_count": 17,
     "metadata": {},
     "output_type": "execute_result"
    },
    {
     "data": {
      "image/png": "[encoded data removed]",
      "text/plain": [
       "<Figure size 432x288 with 1 Axes>"
      ]
     },
     "metadata": {
      "needs_background": "light"
     },
     "output_type": "display_data"
    }
   ],
   "source": [
    "plt.plot(x, stats.norm().pdf(x))"
   ]
  },
  {
   "cell_type": "code",
   "execution_count": 18,
   "metadata": {},
   "outputs": [
    {
     "data": {
      "text/plain": [
       "2.866515719235352e-07"
      ]
     },
     "execution_count": 18,
     "metadata": {},
     "output_type": "execute_result"
    }
   ],
   "source": [
    "# true expected value \n",
    "h_true = 1 - stats.norm().cdf(5)\n",
    "h_true"
   ]
  },
  {
   "cell_type": "markdown",
   "metadata": {},
   "source": [
    "#### Using classical Monte Carlo method"
   ]
  },
  {
   "cell_type": "code",
   "execution_count": 19,
   "metadata": {},
   "outputs": [
    {
     "data": {
      "text/plain": [
       "0.0"
      ]
     },
     "execution_count": 19,
     "metadata": {},
     "output_type": "execute_result"
    }
   ],
   "source": [
    "N = 100_0000\n",
    "y = stats.norm().rvs(N)\n",
    "h_MC_classical = float(1/N * np.sum(y > 5))\n",
    "h_MC_classical"
   ]
  },
  {
   "cell_type": "code",
   "execution_count": 20,
   "metadata": {},
   "outputs": [
    {
     "data": {
      "text/plain": [
       "1.0"
      ]
     },
     "execution_count": 20,
     "metadata": {},
     "output_type": "execute_result"
    }
   ],
   "source": [
    "# The relative error \n",
    "np.abs(h_MC_classical - h_true)/h_true"
   ]
  },
  {
   "cell_type": "markdown",
   "metadata": {},
   "source": [
    "#### Using Importance Sampling"
   ]
  },
  {
   "cell_type": "code",
   "execution_count": 21,
   "metadata": {},
   "outputs": [
    {
     "data": {
      "text/plain": [
       "2.8618556876647134e-07"
      ]
     },
     "execution_count": 21,
     "metadata": {},
     "output_type": "execute_result"
    }
   ],
   "source": [
    "N = 100_000\n",
    "y = stats.expon(loc=5).rvs(N)\n",
    "h_IS = float(1/N * np.sum(stats.norm().pdf(y)/stats.expon(loc=5).pdf(y)))\n",
    "h_IS"
   ]
  },
  {
   "cell_type": "code",
   "execution_count": 22,
   "metadata": {},
   "outputs": [
    {
     "data": {
      "text/plain": [
       "0.0016256780101947398"
      ]
     },
     "execution_count": 22,
     "metadata": {},
     "output_type": "execute_result"
    }
   ],
   "source": [
    "# The relative error\n",
    "np.abs(h_IS - h_true)/h_true"
   ]
  }
 ],
 "metadata": {
  "kernelspec": {
   "display_name": "Python 3",
   "language": "python",
   "name": "python3"
  },
  "language_info": {
   "codemirror_mode": {
    "name": "ipython",
    "version": 3
   },
   "file_extension": ".py",
   "mimetype": "text/x-python",
   "name": "python",
   "nbconvert_exporter": "python",
   "pygments_lexer": "ipython3",
   "version": "3.7.3"
  }
 },
 "nbformat": 4,
 "nbformat_minor": 2
}
